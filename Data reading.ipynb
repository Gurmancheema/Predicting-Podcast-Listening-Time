{
 "cells": [
  {
   "cell_type": "markdown",
   "id": "545414a2",
   "metadata": {},
   "source": [
    "Importing libraries"
   ]
  },
  {
   "cell_type": "code",
   "execution_count": 1,
   "id": "71c40c06",
   "metadata": {},
   "outputs": [],
   "source": [
    "import pandas as pd\n",
    "import matplotlib.pyplot as plt\n",
    "import seaborn as sb"
   ]
  },
  {
   "cell_type": "code",
   "execution_count": 2,
   "id": "99219c23",
   "metadata": {},
   "outputs": [
    {
     "data": {
      "text/html": [
       "<div>\n",
       "<style scoped>\n",
       "    .dataframe tbody tr th:only-of-type {\n",
       "        vertical-align: middle;\n",
       "    }\n",
       "\n",
       "    .dataframe tbody tr th {\n",
       "        vertical-align: top;\n",
       "    }\n",
       "\n",
       "    .dataframe thead th {\n",
       "        text-align: right;\n",
       "    }\n",
       "</style>\n",
       "<table border=\"1\" class=\"dataframe\">\n",
       "  <thead>\n",
       "    <tr style=\"text-align: right;\">\n",
       "      <th></th>\n",
       "      <th>id</th>\n",
       "      <th>Podcast_Name</th>\n",
       "      <th>Episode_Title</th>\n",
       "      <th>Episode_Length_minutes</th>\n",
       "      <th>Genre</th>\n",
       "      <th>Host_Popularity_percentage</th>\n",
       "      <th>Publication_Day</th>\n",
       "      <th>Publication_Time</th>\n",
       "      <th>Guest_Popularity_percentage</th>\n",
       "      <th>Number_of_Ads</th>\n",
       "      <th>Episode_Sentiment</th>\n",
       "      <th>Listening_Time_minutes</th>\n",
       "    </tr>\n",
       "  </thead>\n",
       "  <tbody>\n",
       "    <tr>\n",
       "      <th>0</th>\n",
       "      <td>0</td>\n",
       "      <td>Mystery Matters</td>\n",
       "      <td>Episode 98</td>\n",
       "      <td>NaN</td>\n",
       "      <td>True Crime</td>\n",
       "      <td>74.81</td>\n",
       "      <td>Thursday</td>\n",
       "      <td>Night</td>\n",
       "      <td>NaN</td>\n",
       "      <td>0.0</td>\n",
       "      <td>Positive</td>\n",
       "      <td>31.41998</td>\n",
       "    </tr>\n",
       "    <tr>\n",
       "      <th>1</th>\n",
       "      <td>1</td>\n",
       "      <td>Joke Junction</td>\n",
       "      <td>Episode 26</td>\n",
       "      <td>119.80</td>\n",
       "      <td>Comedy</td>\n",
       "      <td>66.95</td>\n",
       "      <td>Saturday</td>\n",
       "      <td>Afternoon</td>\n",
       "      <td>75.95</td>\n",
       "      <td>2.0</td>\n",
       "      <td>Negative</td>\n",
       "      <td>88.01241</td>\n",
       "    </tr>\n",
       "    <tr>\n",
       "      <th>2</th>\n",
       "      <td>2</td>\n",
       "      <td>Study Sessions</td>\n",
       "      <td>Episode 16</td>\n",
       "      <td>73.90</td>\n",
       "      <td>Education</td>\n",
       "      <td>69.97</td>\n",
       "      <td>Tuesday</td>\n",
       "      <td>Evening</td>\n",
       "      <td>8.97</td>\n",
       "      <td>0.0</td>\n",
       "      <td>Negative</td>\n",
       "      <td>44.92531</td>\n",
       "    </tr>\n",
       "    <tr>\n",
       "      <th>3</th>\n",
       "      <td>3</td>\n",
       "      <td>Digital Digest</td>\n",
       "      <td>Episode 45</td>\n",
       "      <td>67.17</td>\n",
       "      <td>Technology</td>\n",
       "      <td>57.22</td>\n",
       "      <td>Monday</td>\n",
       "      <td>Morning</td>\n",
       "      <td>78.70</td>\n",
       "      <td>2.0</td>\n",
       "      <td>Positive</td>\n",
       "      <td>46.27824</td>\n",
       "    </tr>\n",
       "    <tr>\n",
       "      <th>4</th>\n",
       "      <td>4</td>\n",
       "      <td>Mind &amp; Body</td>\n",
       "      <td>Episode 86</td>\n",
       "      <td>110.51</td>\n",
       "      <td>Health</td>\n",
       "      <td>80.07</td>\n",
       "      <td>Monday</td>\n",
       "      <td>Afternoon</td>\n",
       "      <td>58.68</td>\n",
       "      <td>3.0</td>\n",
       "      <td>Neutral</td>\n",
       "      <td>75.61031</td>\n",
       "    </tr>\n",
       "    <tr>\n",
       "      <th>5</th>\n",
       "      <td>5</td>\n",
       "      <td>Fitness First</td>\n",
       "      <td>Episode 19</td>\n",
       "      <td>26.54</td>\n",
       "      <td>Health</td>\n",
       "      <td>48.96</td>\n",
       "      <td>Saturday</td>\n",
       "      <td>Afternoon</td>\n",
       "      <td>NaN</td>\n",
       "      <td>3.0</td>\n",
       "      <td>Positive</td>\n",
       "      <td>22.77047</td>\n",
       "    </tr>\n",
       "    <tr>\n",
       "      <th>6</th>\n",
       "      <td>6</td>\n",
       "      <td>Criminal Minds</td>\n",
       "      <td>Episode 47</td>\n",
       "      <td>69.83</td>\n",
       "      <td>True Crime</td>\n",
       "      <td>35.82</td>\n",
       "      <td>Sunday</td>\n",
       "      <td>Night</td>\n",
       "      <td>39.02</td>\n",
       "      <td>0.0</td>\n",
       "      <td>Neutral</td>\n",
       "      <td>64.75024</td>\n",
       "    </tr>\n",
       "    <tr>\n",
       "      <th>7</th>\n",
       "      <td>7</td>\n",
       "      <td>News Roundup</td>\n",
       "      <td>Episode 44</td>\n",
       "      <td>48.52</td>\n",
       "      <td>News</td>\n",
       "      <td>44.99</td>\n",
       "      <td>Thursday</td>\n",
       "      <td>Night</td>\n",
       "      <td>20.12</td>\n",
       "      <td>0.0</td>\n",
       "      <td>Positive</td>\n",
       "      <td>22.37517</td>\n",
       "    </tr>\n",
       "    <tr>\n",
       "      <th>8</th>\n",
       "      <td>8</td>\n",
       "      <td>Daily Digest</td>\n",
       "      <td>Episode 32</td>\n",
       "      <td>105.87</td>\n",
       "      <td>News</td>\n",
       "      <td>69.81</td>\n",
       "      <td>Monday</td>\n",
       "      <td>Evening</td>\n",
       "      <td>NaN</td>\n",
       "      <td>2.0</td>\n",
       "      <td>Neutral</td>\n",
       "      <td>68.00124</td>\n",
       "    </tr>\n",
       "    <tr>\n",
       "      <th>9</th>\n",
       "      <td>9</td>\n",
       "      <td>Music Matters</td>\n",
       "      <td>Episode 81</td>\n",
       "      <td>NaN</td>\n",
       "      <td>Music</td>\n",
       "      <td>82.18</td>\n",
       "      <td>Thursday</td>\n",
       "      <td>Night</td>\n",
       "      <td>59.72</td>\n",
       "      <td>3.0</td>\n",
       "      <td>Neutral</td>\n",
       "      <td>45.94761</td>\n",
       "    </tr>\n",
       "  </tbody>\n",
       "</table>\n",
       "</div>"
      ],
      "text/plain": [
       "   id     Podcast_Name Episode_Title  Episode_Length_minutes       Genre  \\\n",
       "0   0  Mystery Matters    Episode 98                     NaN  True Crime   \n",
       "1   1    Joke Junction    Episode 26                  119.80      Comedy   \n",
       "2   2   Study Sessions    Episode 16                   73.90   Education   \n",
       "3   3   Digital Digest    Episode 45                   67.17  Technology   \n",
       "4   4      Mind & Body    Episode 86                  110.51      Health   \n",
       "5   5    Fitness First    Episode 19                   26.54      Health   \n",
       "6   6   Criminal Minds    Episode 47                   69.83  True Crime   \n",
       "7   7     News Roundup    Episode 44                   48.52        News   \n",
       "8   8     Daily Digest    Episode 32                  105.87        News   \n",
       "9   9    Music Matters    Episode 81                     NaN       Music   \n",
       "\n",
       "   Host_Popularity_percentage Publication_Day Publication_Time  \\\n",
       "0                       74.81        Thursday            Night   \n",
       "1                       66.95        Saturday        Afternoon   \n",
       "2                       69.97         Tuesday          Evening   \n",
       "3                       57.22          Monday          Morning   \n",
       "4                       80.07          Monday        Afternoon   \n",
       "5                       48.96        Saturday        Afternoon   \n",
       "6                       35.82          Sunday            Night   \n",
       "7                       44.99        Thursday            Night   \n",
       "8                       69.81          Monday          Evening   \n",
       "9                       82.18        Thursday            Night   \n",
       "\n",
       "   Guest_Popularity_percentage  Number_of_Ads Episode_Sentiment  \\\n",
       "0                          NaN            0.0          Positive   \n",
       "1                        75.95            2.0          Negative   \n",
       "2                         8.97            0.0          Negative   \n",
       "3                        78.70            2.0          Positive   \n",
       "4                        58.68            3.0           Neutral   \n",
       "5                          NaN            3.0          Positive   \n",
       "6                        39.02            0.0           Neutral   \n",
       "7                        20.12            0.0          Positive   \n",
       "8                          NaN            2.0           Neutral   \n",
       "9                        59.72            3.0           Neutral   \n",
       "\n",
       "   Listening_Time_minutes  \n",
       "0                31.41998  \n",
       "1                88.01241  \n",
       "2                44.92531  \n",
       "3                46.27824  \n",
       "4                75.61031  \n",
       "5                22.77047  \n",
       "6                64.75024  \n",
       "7                22.37517  \n",
       "8                68.00124  \n",
       "9                45.94761  "
      ]
     },
     "execution_count": 2,
     "metadata": {},
     "output_type": "execute_result"
    }
   ],
   "source": [
    "df = pd.read_csv(\"data/train.csv\")\n",
    "df.head(10)"
   ]
  },
  {
   "cell_type": "code",
   "execution_count": 3,
   "id": "7f029189",
   "metadata": {},
   "outputs": [
    {
     "data": {
      "text/plain": [
       "(750000, 12)"
      ]
     },
     "execution_count": 3,
     "metadata": {},
     "output_type": "execute_result"
    }
   ],
   "source": [
    "df.shape"
   ]
  },
  {
   "cell_type": "code",
   "execution_count": 4,
   "id": "923c2236",
   "metadata": {},
   "outputs": [
    {
     "data": {
      "text/html": [
       "<div>\n",
       "<style scoped>\n",
       "    .dataframe tbody tr th:only-of-type {\n",
       "        vertical-align: middle;\n",
       "    }\n",
       "\n",
       "    .dataframe tbody tr th {\n",
       "        vertical-align: top;\n",
       "    }\n",
       "\n",
       "    .dataframe thead th {\n",
       "        text-align: right;\n",
       "    }\n",
       "</style>\n",
       "<table border=\"1\" class=\"dataframe\">\n",
       "  <thead>\n",
       "    <tr style=\"text-align: right;\">\n",
       "      <th></th>\n",
       "      <th>id</th>\n",
       "      <th>Episode_Length_minutes</th>\n",
       "      <th>Host_Popularity_percentage</th>\n",
       "      <th>Guest_Popularity_percentage</th>\n",
       "      <th>Number_of_Ads</th>\n",
       "      <th>Listening_Time_minutes</th>\n",
       "    </tr>\n",
       "  </thead>\n",
       "  <tbody>\n",
       "    <tr>\n",
       "      <th>count</th>\n",
       "      <td>750000.000000</td>\n",
       "      <td>662907.000000</td>\n",
       "      <td>750000.000000</td>\n",
       "      <td>603970.000000</td>\n",
       "      <td>749999.000000</td>\n",
       "      <td>750000.000000</td>\n",
       "    </tr>\n",
       "    <tr>\n",
       "      <th>mean</th>\n",
       "      <td>374999.500000</td>\n",
       "      <td>64.504738</td>\n",
       "      <td>59.859901</td>\n",
       "      <td>52.236449</td>\n",
       "      <td>1.348855</td>\n",
       "      <td>45.437406</td>\n",
       "    </tr>\n",
       "    <tr>\n",
       "      <th>std</th>\n",
       "      <td>216506.495284</td>\n",
       "      <td>32.969603</td>\n",
       "      <td>22.873098</td>\n",
       "      <td>28.451241</td>\n",
       "      <td>1.151130</td>\n",
       "      <td>27.138306</td>\n",
       "    </tr>\n",
       "    <tr>\n",
       "      <th>min</th>\n",
       "      <td>0.000000</td>\n",
       "      <td>0.000000</td>\n",
       "      <td>1.300000</td>\n",
       "      <td>0.000000</td>\n",
       "      <td>0.000000</td>\n",
       "      <td>0.000000</td>\n",
       "    </tr>\n",
       "    <tr>\n",
       "      <th>25%</th>\n",
       "      <td>187499.750000</td>\n",
       "      <td>35.730000</td>\n",
       "      <td>39.410000</td>\n",
       "      <td>28.380000</td>\n",
       "      <td>0.000000</td>\n",
       "      <td>23.178350</td>\n",
       "    </tr>\n",
       "    <tr>\n",
       "      <th>50%</th>\n",
       "      <td>374999.500000</td>\n",
       "      <td>63.840000</td>\n",
       "      <td>60.050000</td>\n",
       "      <td>53.580000</td>\n",
       "      <td>1.000000</td>\n",
       "      <td>43.379460</td>\n",
       "    </tr>\n",
       "    <tr>\n",
       "      <th>75%</th>\n",
       "      <td>562499.250000</td>\n",
       "      <td>94.070000</td>\n",
       "      <td>79.530000</td>\n",
       "      <td>76.600000</td>\n",
       "      <td>2.000000</td>\n",
       "      <td>64.811580</td>\n",
       "    </tr>\n",
       "    <tr>\n",
       "      <th>max</th>\n",
       "      <td>749999.000000</td>\n",
       "      <td>325.240000</td>\n",
       "      <td>119.460000</td>\n",
       "      <td>119.910000</td>\n",
       "      <td>103.910000</td>\n",
       "      <td>119.970000</td>\n",
       "    </tr>\n",
       "  </tbody>\n",
       "</table>\n",
       "</div>"
      ],
      "text/plain": [
       "                  id  Episode_Length_minutes  Host_Popularity_percentage  \\\n",
       "count  750000.000000           662907.000000               750000.000000   \n",
       "mean   374999.500000               64.504738                   59.859901   \n",
       "std    216506.495284               32.969603                   22.873098   \n",
       "min         0.000000                0.000000                    1.300000   \n",
       "25%    187499.750000               35.730000                   39.410000   \n",
       "50%    374999.500000               63.840000                   60.050000   \n",
       "75%    562499.250000               94.070000                   79.530000   \n",
       "max    749999.000000              325.240000                  119.460000   \n",
       "\n",
       "       Guest_Popularity_percentage  Number_of_Ads  Listening_Time_minutes  \n",
       "count                603970.000000  749999.000000           750000.000000  \n",
       "mean                     52.236449       1.348855               45.437406  \n",
       "std                      28.451241       1.151130               27.138306  \n",
       "min                       0.000000       0.000000                0.000000  \n",
       "25%                      28.380000       0.000000               23.178350  \n",
       "50%                      53.580000       1.000000               43.379460  \n",
       "75%                      76.600000       2.000000               64.811580  \n",
       "max                     119.910000     103.910000              119.970000  "
      ]
     },
     "execution_count": 4,
     "metadata": {},
     "output_type": "execute_result"
    }
   ],
   "source": [
    "df.describe()"
   ]
  },
  {
   "cell_type": "markdown",
   "id": "7d90bccc",
   "metadata": {},
   "source": [
    "Checking for Null or missing values"
   ]
  },
  {
   "cell_type": "code",
   "execution_count": 5,
   "id": "aefceca7",
   "metadata": {},
   "outputs": [
    {
     "data": {
      "text/plain": [
       "id                                  0\n",
       "Podcast_Name                        0\n",
       "Episode_Title                       0\n",
       "Episode_Length_minutes          87093\n",
       "Genre                               0\n",
       "Host_Popularity_percentage          0\n",
       "Publication_Day                     0\n",
       "Publication_Time                    0\n",
       "Guest_Popularity_percentage    146030\n",
       "Number_of_Ads                       1\n",
       "Episode_Sentiment                   0\n",
       "Listening_Time_minutes              0\n",
       "dtype: int64"
      ]
     },
     "execution_count": 5,
     "metadata": {},
     "output_type": "execute_result"
    }
   ],
   "source": [
    "df.isnull().sum()"
   ]
  },
  {
   "cell_type": "code",
   "execution_count": 6,
   "id": "577198a2",
   "metadata": {},
   "outputs": [
    {
     "name": "stdout",
     "output_type": "stream",
     "text": [
      "['Episode_Length_minutes', 'Guest_Popularity_percentage', 'Number_of_Ads']\n"
     ]
    }
   ],
   "source": [
    "#let's get only those columns which have null values in them\n",
    "cols_with_null_values =[]\n",
    "all_cols = df.columns.to_list()\n",
    "for i in all_cols:\n",
    "    if df[i].isnull().any():\n",
    "        cols_with_null_values.append(i)\n",
    "\n",
    "print(cols_with_null_values)"
   ]
  },
  {
   "cell_type": "markdown",
   "id": "bef49239",
   "metadata": {},
   "source": [
    "Checking the number of rows having null or missing values"
   ]
  },
  {
   "cell_type": "code",
   "execution_count": 7,
   "id": "e572882e",
   "metadata": {},
   "outputs": [
    {
     "name": "stdout",
     "output_type": "stream",
     "text": [
      "Number of missing values in  Episode_Length_minutes = 87093\n",
      "Number of missing values in  Guest_Popularity_percentage = 146030\n",
      "Number of missing values in  Number_of_Ads = 1\n"
     ]
    }
   ],
   "source": [
    "for cols in cols_with_null_values:\n",
    "    null_count = df[cols].isnull().sum()\n",
    "    print(\"Number of missing values in \", cols,\"=\", null_count)"
   ]
  },
  {
   "cell_type": "markdown",
   "id": "7067e326",
   "metadata": {},
   "source": [
    "Checking the Percentage Contribution of null values among total rows of the dataset"
   ]
  },
  {
   "cell_type": "code",
   "execution_count": 8,
   "id": "9f2f69eb",
   "metadata": {},
   "outputs": [
    {
     "data": {
      "text/plain": [
       "(750000, 12)"
      ]
     },
     "execution_count": 8,
     "metadata": {},
     "output_type": "execute_result"
    }
   ],
   "source": [
    "df.shape"
   ]
  },
  {
   "cell_type": "code",
   "execution_count": 9,
   "id": "cac39af9",
   "metadata": {},
   "outputs": [
    {
     "name": "stdout",
     "output_type": "stream",
     "text": [
      "Percentage of missing values in Episode_Length_minutes = 11.61 %\n",
      "Percentage of missing values in Guest_Popularity_percentage = 19.47 %\n",
      "Percentage of missing values in Number_of_Ads = 0.0 %\n"
     ]
    }
   ],
   "source": [
    "for cols in cols_with_null_values:\n",
    "    null_values_percentage = round(df[cols].isnull().sum()/df.shape[0] * 100,2) \n",
    "    print(\"Percentage of missing values in\", cols, \"=\",null_values_percentage,\"%\")"
   ]
  },
  {
   "cell_type": "markdown",
   "id": "14403d9e",
   "metadata": {},
   "source": [
    "According to plan, i'll drop the first chunk of data having missing value & compare it to next iteration where i'll impute these missing values"
   ]
  },
  {
   "cell_type": "code",
   "execution_count": 10,
   "id": "cd39063e",
   "metadata": {},
   "outputs": [],
   "source": [
    "df.dropna(axis=0, inplace=True)"
   ]
  },
  {
   "cell_type": "markdown",
   "id": "51097932",
   "metadata": {},
   "source": [
    "Getting more info on Categorical Features of the dataset"
   ]
  },
  {
   "cell_type": "code",
   "execution_count": null,
   "id": "94340ea9",
   "metadata": {},
   "outputs": [
    {
     "data": {
      "text/html": [
       "<div>\n",
       "<style scoped>\n",
       "    .dataframe tbody tr th:only-of-type {\n",
       "        vertical-align: middle;\n",
       "    }\n",
       "\n",
       "    .dataframe tbody tr th {\n",
       "        vertical-align: top;\n",
       "    }\n",
       "\n",
       "    .dataframe thead th {\n",
       "        text-align: right;\n",
       "    }\n",
       "</style>\n",
       "<table border=\"1\" class=\"dataframe\">\n",
       "  <thead>\n",
       "    <tr style=\"text-align: right;\">\n",
       "      <th></th>\n",
       "      <th>id</th>\n",
       "      <th>Podcast_Name</th>\n",
       "      <th>Episode_Title</th>\n",
       "      <th>Episode_Length_minutes</th>\n",
       "      <th>Genre</th>\n",
       "      <th>Host_Popularity_percentage</th>\n",
       "      <th>Publication_Day</th>\n",
       "      <th>Publication_Time</th>\n",
       "      <th>Guest_Popularity_percentage</th>\n",
       "      <th>Number_of_Ads</th>\n",
       "      <th>Episode_Sentiment</th>\n",
       "      <th>Listening_Time_minutes</th>\n",
       "    </tr>\n",
       "  </thead>\n",
       "  <tbody>\n",
       "    <tr>\n",
       "      <th>1</th>\n",
       "      <td>1</td>\n",
       "      <td>Joke Junction</td>\n",
       "      <td>Episode 26</td>\n",
       "      <td>119.80</td>\n",
       "      <td>Comedy</td>\n",
       "      <td>66.95</td>\n",
       "      <td>Saturday</td>\n",
       "      <td>Afternoon</td>\n",
       "      <td>75.95</td>\n",
       "      <td>2.0</td>\n",
       "      <td>Negative</td>\n",
       "      <td>88.01241</td>\n",
       "    </tr>\n",
       "    <tr>\n",
       "      <th>2</th>\n",
       "      <td>2</td>\n",
       "      <td>Study Sessions</td>\n",
       "      <td>Episode 16</td>\n",
       "      <td>73.90</td>\n",
       "      <td>Education</td>\n",
       "      <td>69.97</td>\n",
       "      <td>Tuesday</td>\n",
       "      <td>Evening</td>\n",
       "      <td>8.97</td>\n",
       "      <td>0.0</td>\n",
       "      <td>Negative</td>\n",
       "      <td>44.92531</td>\n",
       "    </tr>\n",
       "    <tr>\n",
       "      <th>3</th>\n",
       "      <td>3</td>\n",
       "      <td>Digital Digest</td>\n",
       "      <td>Episode 45</td>\n",
       "      <td>67.17</td>\n",
       "      <td>Technology</td>\n",
       "      <td>57.22</td>\n",
       "      <td>Monday</td>\n",
       "      <td>Morning</td>\n",
       "      <td>78.70</td>\n",
       "      <td>2.0</td>\n",
       "      <td>Positive</td>\n",
       "      <td>46.27824</td>\n",
       "    </tr>\n",
       "    <tr>\n",
       "      <th>4</th>\n",
       "      <td>4</td>\n",
       "      <td>Mind &amp; Body</td>\n",
       "      <td>Episode 86</td>\n",
       "      <td>110.51</td>\n",
       "      <td>Health</td>\n",
       "      <td>80.07</td>\n",
       "      <td>Monday</td>\n",
       "      <td>Afternoon</td>\n",
       "      <td>58.68</td>\n",
       "      <td>3.0</td>\n",
       "      <td>Neutral</td>\n",
       "      <td>75.61031</td>\n",
       "    </tr>\n",
       "    <tr>\n",
       "      <th>6</th>\n",
       "      <td>6</td>\n",
       "      <td>Criminal Minds</td>\n",
       "      <td>Episode 47</td>\n",
       "      <td>69.83</td>\n",
       "      <td>True Crime</td>\n",
       "      <td>35.82</td>\n",
       "      <td>Sunday</td>\n",
       "      <td>Night</td>\n",
       "      <td>39.02</td>\n",
       "      <td>0.0</td>\n",
       "      <td>Neutral</td>\n",
       "      <td>64.75024</td>\n",
       "    </tr>\n",
       "  </tbody>\n",
       "</table>\n",
       "</div>"
      ],
      "text/plain": [
       "   id    Podcast_Name Episode_Title  Episode_Length_minutes       Genre  \\\n",
       "1   1   Joke Junction    Episode 26                  119.80      Comedy   \n",
       "2   2  Study Sessions    Episode 16                   73.90   Education   \n",
       "3   3  Digital Digest    Episode 45                   67.17  Technology   \n",
       "4   4     Mind & Body    Episode 86                  110.51      Health   \n",
       "6   6  Criminal Minds    Episode 47                   69.83  True Crime   \n",
       "\n",
       "   Host_Popularity_percentage Publication_Day Publication_Time  \\\n",
       "1                       66.95        Saturday        Afternoon   \n",
       "2                       69.97         Tuesday          Evening   \n",
       "3                       57.22          Monday          Morning   \n",
       "4                       80.07          Monday        Afternoon   \n",
       "6                       35.82          Sunday            Night   \n",
       "\n",
       "   Guest_Popularity_percentage  Number_of_Ads Episode_Sentiment  \\\n",
       "1                        75.95            2.0          Negative   \n",
       "2                         8.97            0.0          Negative   \n",
       "3                        78.70            2.0          Positive   \n",
       "4                        58.68            3.0           Neutral   \n",
       "6                        39.02            0.0           Neutral   \n",
       "\n",
       "   Listening_Time_minutes  \n",
       "1                88.01241  \n",
       "2                44.92531  \n",
       "3                46.27824  \n",
       "4                75.61031  \n",
       "6                64.75024  "
      ]
     },
     "execution_count": 11,
     "metadata": {},
     "output_type": "execute_result"
    }
   ],
   "source": [
    "df.head()"
   ]
  },
  {
   "cell_type": "code",
   "execution_count": 26,
   "id": "45246ff1",
   "metadata": {},
   "outputs": [
    {
     "name": "stdout",
     "output_type": "stream",
     "text": [
      "['Podcast_Name', 'Episode_Title', 'Genre', 'Publication_Day', 'Publication_Time', 'Episode_Sentiment']\n"
     ]
    }
   ],
   "source": [
    "categorical_cols = df.select_dtypes(include=['object','category']).columns.to_list()\n",
    "print(categorical_cols)"
   ]
  },
  {
   "cell_type": "code",
   "execution_count": 28,
   "id": "ac49d1f0",
   "metadata": {},
   "outputs": [
    {
     "name": "stdout",
     "output_type": "stream",
     "text": [
      "['Joke Junction' 'Study Sessions' 'Digital Digest' 'Mind & Body'\n",
      " 'Criminal Minds' 'News Roundup' 'Sports Central' 'Melody Mix' 'Game Day'\n",
      " 'Gadget Geek' 'Global News' 'Tech Talks' 'Sport Spot' 'Business Briefs'\n",
      " 'Tech Trends' 'Innovators' 'Comedy Corner' 'Fitness First' 'Funny Folks'\n",
      " 'Music Matters' 'Brain Boost' \"Athlete's Arena\" 'Wellness Wave'\n",
      " 'Sports Weekly' 'World Watch' 'Humor Hub' 'Style Guide' 'Money Matters'\n",
      " 'Healthy Living' 'Home & Living' 'Educational Nuggets' 'Mystery Matters'\n",
      " 'Learning Lab' 'Lifestyle Lounge' 'Crime Chronicles' 'Life Lessons'\n",
      " 'Current Affairs' 'Daily Digest' 'Finance Focus' 'Laugh Line'\n",
      " 'True Crime Stories' 'Detective Diaries' 'Business Insights'\n",
      " 'Fashion Forward' 'Market Masters' 'Tune Time' 'Sound Waves'\n",
      " 'Health Hour']\n",
      "['Episode 26' 'Episode 16' 'Episode 45' 'Episode 86' 'Episode 47'\n",
      " 'Episode 44' 'Episode 66' 'Episode 62' 'Episode 76' 'Episode 37'\n",
      " 'Episode 20' 'Episode 32' 'Episode 72' 'Episode 61' 'Episode 54'\n",
      " 'Episode 17' 'Episode 36' 'Episode 97' 'Episode 31' 'Episode 88'\n",
      " 'Episode 92' 'Episode 63' 'Episode 38' 'Episode 82' 'Episode 67'\n",
      " 'Episode 77' 'Episode 4' 'Episode 24' 'Episode 1' 'Episode 2'\n",
      " 'Episode 25' 'Episode 56' 'Episode 12' 'Episode 6' 'Episode 85'\n",
      " 'Episode 23' 'Episode 33' 'Episode 7' 'Episode 53' 'Episode 15'\n",
      " 'Episode 43' 'Episode 71' 'Episode 69' 'Episode 81' 'Episode 13'\n",
      " 'Episode 89' 'Episode 73' 'Episode 21' 'Episode 27' 'Episode 79'\n",
      " 'Episode 94' 'Episode 30' 'Episode 48' 'Episode 40' 'Episode 49'\n",
      " 'Episode 9' 'Episode 50' 'Episode 96' 'Episode 78' 'Episode 64'\n",
      " 'Episode 84' 'Episode 87' 'Episode 58' 'Episode 57' 'Episode 75'\n",
      " 'Episode 46' 'Episode 3' 'Episode 35' 'Episode 42' 'Episode 90'\n",
      " 'Episode 59' 'Episode 5' 'Episode 98' 'Episode 11' 'Episode 51'\n",
      " 'Episode 14' 'Episode 41' 'Episode 18' 'Episode 10' 'Episode 83'\n",
      " 'Episode 29' 'Episode 55' 'Episode 80' 'Episode 65' 'Episode 100'\n",
      " 'Episode 19' 'Episode 99' 'Episode 91' 'Episode 22' 'Episode 60'\n",
      " 'Episode 52' 'Episode 93' 'Episode 28' 'Episode 68' 'Episode 70'\n",
      " 'Episode 95' 'Episode 8' 'Episode 74' 'Episode 39' 'Episode 34']\n",
      "['Comedy' 'Education' 'Technology' 'Health' 'True Crime' 'News' 'Sports'\n",
      " 'Music' 'Business' 'Lifestyle']\n",
      "['Saturday' 'Tuesday' 'Monday' 'Sunday' 'Thursday' 'Wednesday' 'Friday']\n",
      "['Afternoon' 'Evening' 'Morning' 'Night']\n",
      "['Negative' 'Positive' 'Neutral']\n"
     ]
    }
   ],
   "source": [
    "for i in categorical_cols:\n",
    "    print(df[i].unique())"
   ]
  },
  {
   "cell_type": "code",
   "execution_count": 20,
   "id": "e223e7f6",
   "metadata": {},
   "outputs": [
    {
     "data": {
      "text/plain": [
       "array(['Comedy', 'Education', 'Technology', 'Health', 'True Crime',\n",
       "       'News', 'Sports', 'Music', 'Business', 'Lifestyle'], dtype=object)"
      ]
     },
     "execution_count": 20,
     "metadata": {},
     "output_type": "execute_result"
    }
   ],
   "source": [
    "df['Genre'].unique()"
   ]
  },
  {
   "cell_type": "code",
   "execution_count": 21,
   "id": "b09fded3",
   "metadata": {},
   "outputs": [
    {
     "data": {
      "text/plain": [
       "array(['Episode 26', 'Episode 16', 'Episode 45', 'Episode 86',\n",
       "       'Episode 47', 'Episode 44', 'Episode 66', 'Episode 62',\n",
       "       'Episode 76', 'Episode 37', 'Episode 20', 'Episode 32',\n",
       "       'Episode 72', 'Episode 61', 'Episode 54', 'Episode 17',\n",
       "       'Episode 36', 'Episode 97', 'Episode 31', 'Episode 88',\n",
       "       'Episode 92', 'Episode 63', 'Episode 38', 'Episode 82',\n",
       "       'Episode 67', 'Episode 77', 'Episode 4', 'Episode 24', 'Episode 1',\n",
       "       'Episode 2', 'Episode 25', 'Episode 56', 'Episode 12', 'Episode 6',\n",
       "       'Episode 85', 'Episode 23', 'Episode 33', 'Episode 7',\n",
       "       'Episode 53', 'Episode 15', 'Episode 43', 'Episode 71',\n",
       "       'Episode 69', 'Episode 81', 'Episode 13', 'Episode 89',\n",
       "       'Episode 73', 'Episode 21', 'Episode 27', 'Episode 79',\n",
       "       'Episode 94', 'Episode 30', 'Episode 48', 'Episode 40',\n",
       "       'Episode 49', 'Episode 9', 'Episode 50', 'Episode 96',\n",
       "       'Episode 78', 'Episode 64', 'Episode 84', 'Episode 87',\n",
       "       'Episode 58', 'Episode 57', 'Episode 75', 'Episode 46',\n",
       "       'Episode 3', 'Episode 35', 'Episode 42', 'Episode 90',\n",
       "       'Episode 59', 'Episode 5', 'Episode 98', 'Episode 11',\n",
       "       'Episode 51', 'Episode 14', 'Episode 41', 'Episode 18',\n",
       "       'Episode 10', 'Episode 83', 'Episode 29', 'Episode 55',\n",
       "       'Episode 80', 'Episode 65', 'Episode 100', 'Episode 19',\n",
       "       'Episode 99', 'Episode 91', 'Episode 22', 'Episode 60',\n",
       "       'Episode 52', 'Episode 93', 'Episode 28', 'Episode 68',\n",
       "       'Episode 70', 'Episode 95', 'Episode 8', 'Episode 74',\n",
       "       'Episode 39', 'Episode 34'], dtype=object)"
      ]
     },
     "execution_count": 21,
     "metadata": {},
     "output_type": "execute_result"
    }
   ],
   "source": [
    "df['Episode_Title'].unique()"
   ]
  },
  {
   "cell_type": "markdown",
   "id": "ccded1c8",
   "metadata": {},
   "source": [
    "Checking for duplicate rows"
   ]
  },
  {
   "cell_type": "code",
   "execution_count": 34,
   "id": "62ae4971",
   "metadata": {},
   "outputs": [
    {
     "name": "stdout",
     "output_type": "stream",
     "text": [
      "No. of duplicate rows in the dataframe = 0\n"
     ]
    }
   ],
   "source": [
    "print(\"No. of duplicate rows in the dataframe =\",df.duplicated().sum())"
   ]
  },
  {
   "cell_type": "markdown",
   "id": "76c73376",
   "metadata": {},
   "source": [
    "Data Wrangling is complete, i'll save this dataframe as new cleaned dataset to work upon further"
   ]
  },
  {
   "cell_type": "code",
   "execution_count": 36,
   "id": "60b33385",
   "metadata": {},
   "outputs": [],
   "source": [
    "df.to_csv('data/cleaned_train_data.csv')"
   ]
  }
 ],
 "metadata": {
  "kernelspec": {
   "display_name": "base",
   "language": "python",
   "name": "python3"
  },
  "language_info": {
   "codemirror_mode": {
    "name": "ipython",
    "version": 3
   },
   "file_extension": ".py",
   "mimetype": "text/x-python",
   "name": "python",
   "nbconvert_exporter": "python",
   "pygments_lexer": "ipython3",
   "version": "3.11.8"
  }
 },
 "nbformat": 4,
 "nbformat_minor": 5
}
